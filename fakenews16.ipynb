{
 "cells": [
  {
   "cell_type": "code",
   "execution_count": 1,
   "metadata": {},
   "outputs": [
    {
     "name": "stderr",
     "output_type": "stream",
     "text": [
      "Using TensorFlow backend.\n"
     ]
    }
   ],
   "source": [
    "import pandas as pd\n",
    "import numpy as np\n",
    "from sklearn.model_selection import train_test_split\n",
    "from sklearn.feature_extraction.text import TfidfVectorizer, CountVectorizer\n",
    "import matplotlib.pyplot as plt\n",
    "import itertools\n",
    "from sklearn import svm\n",
    "from sklearn.naive_bayes import MultinomialNB\n",
    "from sklearn.ensemble import RandomForestClassifier, GradientBoostingClassifier\n",
    "from sklearn import metrics\n",
    "import spacy\n",
    "from sklearn.feature_extraction.stop_words import ENGLISH_STOP_WORDS\n",
    "import string\n",
    "import re\n",
    "import nltk\n",
    "import collections\n",
    "from nltk.corpus import stopwords\n",
    "from sklearn.feature_extraction import DictVectorizer\n",
    "from sklearn.pipeline import Pipeline, FeatureUnion\n",
    "from empath import Empath\n",
    "from keras.preprocessing.text import Tokenizer\n",
    "from keras.preprocessing.sequence import pad_sequences\n",
    "import pickle"
   ]
  },
  {
   "cell_type": "code",
   "execution_count": 2,
   "metadata": {},
   "outputs": [
    {
     "data": {
      "text/plain": [
       "REAL    2137\n",
       "FAKE    1872\n",
       "Name: Label, dtype: int64"
      ]
     },
     "execution_count": 2,
     "metadata": {},
     "output_type": "execute_result"
    }
   ],
   "source": [
    "#segerigating fake and real news\n",
    "df = pd.read_csv('data.csv')#done,well running\n",
    "df.loc[df['Label']== 0, 'Label'] = 'REAL'\n",
    "df.loc[df['Label']== 1, 'Label'] = 'FAKE'\n",
    "df.columns\n",
    "df['Label'].value_counts()"
   ]
  },
  {
   "cell_type": "code",
   "execution_count": 6,
   "metadata": {},
   "outputs": [],
   "source": [
    "#Selecting only fake news from all the types of news and then replacing the 'fake' by 0(qualitative to quantitative)\n",
    "df1 = pd.read_csv('fake.csv')#done, welll running\n",
    "df1.columns\n",
    "df1['type'].value_counts()\n",
    "df1 = df1.loc[df1['type']=='fake']\n",
    "df1.loc[df1['type']== 'fake', 'type'] = 'FAKE'"
   ]
  },
  {
   "cell_type": "code",
   "execution_count": 7,
   "metadata": {},
   "outputs": [
    {
     "data": {
      "text/plain": [
       "FAKE    19\n",
       "Name: Label, dtype: int64"
      ]
     },
     "execution_count": 7,
     "metadata": {},
     "output_type": "execute_result"
    }
   ],
   "source": [
    "#Selecting some columns from the table and renaming them\\n\",\n",
    "df1 = df1[['title','text','type']]\n",
    "df1.columns = ['Headline', 'Body', 'Label']\n",
    "df1['Label'].value_counts()"
   ]
  },
  {
   "cell_type": "code",
   "execution_count": 8,
   "metadata": {},
   "outputs": [
    {
     "data": {
      "text/plain": [
       "Index(['Unnamed: 0', 'title', 'text', 'label'], dtype='object')"
      ]
     },
     "execution_count": 8,
     "metadata": {},
     "output_type": "execute_result"
    }
   ],
   "source": [
    "df2 = pd.read_csv('fake_or_real_news.csv')\n",
    "df2.columns"
   ]
  },
  {
   "cell_type": "code",
   "execution_count": 9,
   "metadata": {},
   "outputs": [
    {
     "data": {
      "text/plain": [
       "REAL    3171\n",
       "FAKE    3164\n",
       "Name: Label, dtype: int64"
      ]
     },
     "execution_count": 9,
     "metadata": {},
     "output_type": "execute_result"
    }
   ],
   "source": [
    "#Selecting few columns from the table and renaming the columns\n",
    "df2 = df2[['title','text','label']]\n",
    "df2.columns = ['Headline', 'Body', 'Label']\n",
    "df2.columns\n",
    "df2['Label'].value_counts()"
   ]
  },
  {
   "cell_type": "code",
   "execution_count": 10,
   "metadata": {
    "scrolled": true
   },
   "outputs": [
    {
     "name": "stdout",
     "output_type": "stream",
     "text": [
      "Supreme Court tosses one of two travel ban challenges\n",
      "2599\n"
     ]
    }
   ],
   "source": [
    "df = df.drop_duplicates()\n",
    "\n",
    "# df.iloc[3647]\n",
    "# print(df['Headline'][3647])\n",
    "# print(len(df['Body'][3647]))\n",
    "#df = df.dropna(how='any',axis=0)\n",
    "cnt = 0\n",
    "ind = []\n",
    "for art in df['Body']:\n",
    "    #print(type(art))\n",
    "    if len(str(art)) < 10:\n",
    "        ind.append(cnt)\n",
    "    cnt+=1\n",
    "df = df.drop(df.index[ind])\n",
    "        \n",
    "\n",
    "df\n",
    "print(df['Headline'][3647])\n",
    "print(len(df['Body'][3647]))\n"
   ]
  },
  {
   "cell_type": "code",
   "execution_count": 11,
   "metadata": {},
   "outputs": [
    {
     "data": {
      "text/plain": [
       "REAL    1803\n",
       "FAKE    1719\n",
       "Name: Label, dtype: int64"
      ]
     },
     "execution_count": 11,
     "metadata": {},
     "output_type": "execute_result"
    }
   ],
   "source": [
    "df['Label'].value_counts()"
   ]
  },
  {
   "cell_type": "code",
   "execution_count": 12,
   "metadata": {},
   "outputs": [
    {
     "data": {
      "text/plain": [
       "<matplotlib.axes._subplots.AxesSubplot at 0x20ec01f99e8>"
      ]
     },
     "execution_count": 12,
     "metadata": {},
     "output_type": "execute_result"
    },
    {
     "data": {
      "image/png": "[encoded data removed]",
      "text/plain": [
       "<Figure size 432x288 with 1 Axes>"
      ]
     },
     "metadata": {},
     "output_type": "display_data"
    }
   ],
   "source": [
    "df['Label'].value_counts().plot(kind = 'pie')"
   ]
  },
  {
   "cell_type": "code",
   "execution_count": 13,
   "metadata": {},
   "outputs": [
    {
     "data": {
      "image/png": "[encoded data removed]",
      "text/plain": [
       "<Figure size 432x288 with 1 Axes>"
      ]
     },
     "metadata": {
      "needs_background": "light"
     },
     "output_type": "display_data"
    }
   ],
   "source": [
    "data = {'a': np.arange(50),\n",
    "        'c': np.random.randint(0, 50, 50),\n",
    "        'd': np.random.randn(50)}\n",
    "data['b'] = data['a'] + 10 * np.random.randn(50)\n",
    "data['d'] = np.abs(data['d']) * 100\n",
    "\n",
    "plt.scatter('a', 'b', c='c', s='d', data=data)\n",
    "plt.xlabel('Biased')\n",
    "plt.ylabel('Unbiased')\n",
    "plt.show()"
   ]
  },
  {
   "cell_type": "code",
   "execution_count": 14,
   "metadata": {},
   "outputs": [
    {
     "data": {
      "text/plain": [
       "count    3522.000000\n",
       "mean       61.073538\n",
       "std        22.508883\n",
       "min         6.000000\n",
       "25%        50.000000\n",
       "50%        61.000000\n",
       "75%        70.000000\n",
       "max       653.000000\n",
       "Name: headline_length, dtype: float64"
      ]
     },
     "execution_count": 14,
     "metadata": {},
     "output_type": "execute_result"
    }
   ],
   "source": [
    "df['headline_length'] = [len(str(a)) for a in df['Headline']]\n",
    "df['headline_length'].describe()"
   ]
  },
  {
   "cell_type": "code",
   "execution_count": 16,
   "metadata": {},
   "outputs": [
    {
     "data": {
      "text/plain": [
       "count     3522.000000\n",
       "mean      2920.565020\n",
       "std       3150.144787\n",
       "min         66.000000\n",
       "25%        411.250000\n",
       "50%       2069.000000\n",
       "75%       4301.500000\n",
       "max      32767.000000\n",
       "Name: body_length, dtype: float64"
      ]
     },
     "execution_count": 16,
     "metadata": {},
     "output_type": "execute_result"
    }
   ],
   "source": [
    "df['body_length'] = [len(str(a)) for a in df['Body']]\n",
    "df['body_length'].describe()"
   ]
  },
  {
   "cell_type": "code",
   "execution_count": 17,
   "metadata": {},
   "outputs": [
    {
     "data": {
      "text/html": [
       "<div>\n",
       "<style scoped>\n",
       "    .dataframe tbody tr th:only-of-type {\n",
       "        vertical-align: middle;\n",
       "    }\n",
       "\n",
       "    .dataframe tbody tr th {\n",
       "        vertical-align: top;\n",
       "    }\n",
       "\n",
       "    .dataframe thead th {\n",
       "        text-align: right;\n",
       "    }\n",
       "</style>\n",
       "<table border=\"1\" class=\"dataframe\">\n",
       "  <thead>\n",
       "    <tr style=\"text-align: right;\">\n",
       "      <th></th>\n",
       "      <th>headline_length</th>\n",
       "      <th>body_length</th>\n",
       "    </tr>\n",
       "  </thead>\n",
       "  <tbody>\n",
       "    <tr>\n",
       "      <th>count</th>\n",
       "      <td>3522.000000</td>\n",
       "      <td>3522.000000</td>\n",
       "    </tr>\n",
       "    <tr>\n",
       "      <th>mean</th>\n",
       "      <td>61.073538</td>\n",
       "      <td>2920.565020</td>\n",
       "    </tr>\n",
       "    <tr>\n",
       "      <th>std</th>\n",
       "      <td>22.508883</td>\n",
       "      <td>3150.144787</td>\n",
       "    </tr>\n",
       "    <tr>\n",
       "      <th>min</th>\n",
       "      <td>6.000000</td>\n",
       "      <td>66.000000</td>\n",
       "    </tr>\n",
       "    <tr>\n",
       "      <th>25%</th>\n",
       "      <td>50.000000</td>\n",
       "      <td>411.250000</td>\n",
       "    </tr>\n",
       "    <tr>\n",
       "      <th>50%</th>\n",
       "      <td>61.000000</td>\n",
       "      <td>2069.000000</td>\n",
       "    </tr>\n",
       "    <tr>\n",
       "      <th>75%</th>\n",
       "      <td>70.000000</td>\n",
       "      <td>4301.500000</td>\n",
       "    </tr>\n",
       "    <tr>\n",
       "      <th>max</th>\n",
       "      <td>653.000000</td>\n",
       "      <td>32767.000000</td>\n",
       "    </tr>\n",
       "  </tbody>\n",
       "</table>\n",
       "</div>"
      ],
      "text/plain": [
       "       headline_length   body_length\n",
       "count      3522.000000   3522.000000\n",
       "mean         61.073538   2920.565020\n",
       "std          22.508883   3150.144787\n",
       "min           6.000000     66.000000\n",
       "25%          50.000000    411.250000\n",
       "50%          61.000000   2069.000000\n",
       "75%          70.000000   4301.500000\n",
       "max         653.000000  32767.000000"
      ]
     },
     "execution_count": 17,
     "metadata": {},
     "output_type": "execute_result"
    }
   ],
   "source": [
    "df.describe()"
   ]
  },
  {
   "cell_type": "code",
   "execution_count": 18,
   "metadata": {},
   "outputs": [
    {
     "data": {
      "text/plain": [
       "1636    Art for IndependenceBy Josef Dobraszczyk (word...\n",
       "1492    Judge Awards Alleged Rapist With Parental Righ...\n",
       "2339    Anime hero joins Japan's antibiotics resistanc...\n",
       "203     Eric Trump National anthem should be kept sacr...\n",
       "3975    In picking fight with Corker, Trump risks agen...\n",
       "10      U.S. President Donald Trump Quietly Signs Law ...\n",
       "3071    2017 Fantasy Football Running Back Rankings - ...\n",
       "3871    Russia, China call for restraint after Trump c...\n",
       "3741    Here’s What Happened in N.F.L. Week 5■ The Jet...\n",
       "1618    G-Fans Bid Cain AdieuG-Fans Bid Cain Adieu\\n(B...\n",
       "892     Trump: I have different attitude on NKPresiden...\n",
       "2730    UK, EU send proposal to rest of WTO to split t...\n",
       "3920    Folk Choke: Tampa Bay Bucs Kicker Misses Three...\n",
       "2200    After Alleged 'Moron' Remark, Tillerson Stroke...\n",
       "1925    North Koreans process salmon, snow crab eaten ...\n",
       "2363    Storm Nate weakens but brings heavy rainMedia ...\n",
       "545     Miami Dolphins Kneelers Crap All Over America ...\n",
       "2573    A New Street Was Meant to Bridge Belfast’s Sec...\n",
       "1722    Losing the EdgeLosing the Edge\\n% of readers t...\n",
       "3300    Farrow on Weinstein's company role and culture...\n",
       "1384    Rob Andrew: Player strike over season extensio...\n",
       "1270    FEMA Website Mysteriously Scrubs Statistics On...\n",
       "2511    Ravens @ Raiders - WednesdayA Potato Battery C...\n",
       "3004    Apollo 17 and the mystery of the last moon lan...\n",
       "12      Just Shut Up & Play Some Damn Baseball!!Just S...\n",
       "217     EU says 'ball entirely in UK court' for move t...\n",
       "355     How to help victims of the California wildfire...\n",
       "3091    10/1 Happenings: HBD Specs, Jim & Vance; Max S...\n",
       "1342    After 'bloody mess' jab, Macron eyes training,...\n",
       "3757    2017 Fantasy Football Team Defense Rankings - ...\n",
       "                              ...                        \n",
       "2675    Keeping the competition out: Iran startups thr...\n",
       "1424    A Eugene O’Neill Marathon: 1 Actor, 1 Script, ...\n",
       "3352    Trump Mocks Puerto Rico In Hispanic Heritage S...\n",
       "2604    In A First, Saudi Arabia Allows Women To Drive...\n",
       "1954    Review: Two Hoarders Clean House in ‘Thy Fathe...\n",
       "3639    Australia Successfully Reformed Gun Laws, Why ...\n",
       "507     Maria Sharapova reaches Tianjin Open quarter-f...\n",
       "1039    Mysterious Towers Pop Up In NYCMysterious meta...\n",
       "612     Las Vegas Mass Shooting: False Flag, PSYOP and...\n",
       "122     Strange Object Spotted Over Newfoundland, Cana...\n",
       "149     11 Commission Witnesses: The “Minders”By Jon R...\n",
       "8       EPA chief to sign rule on Clean Power Plan exi...\n",
       "256     Portsmouth owner Eisner's journey from Disney ...\n",
       "1017    'Blade Runner 2049' review: Ryan Gosling, Harr...\n",
       "498     Will Security Measures Change In Response To M...\n",
       "3869    9/29 From the 50s Forward: HBD Ken, Teke Takes...\n",
       "918     Kushner’s Lawyer Is So Smart He Emailed A Sena...\n",
       "1330    Philip K. Dick’s Electric Dreams [Official Tra...\n",
       "744     Jason Aldean opens 'SNL' playing Tom Petty's '...\n",
       "1624    Hybrid Studios Joins Earthquaker Devices Studi...\n",
       "3168    Giant Menacing 'Independence Day Cloud' Engulf...\n",
       "3150    Michigan to charge state's top medical officia...\n",
       "3054    On Putin's birthday, opposition activists prot...\n",
       "1961    President Donald Trump’s Schedule for Saturday...\n",
       "1467    Movie studios join Disney-led service to link ...\n",
       "1948    Liberal Gun Control Ideas Fall Apart QuicklyLi...\n",
       "929     Trump Successfully Introduced Nepotism Into Th...\n",
       "361     In Trump's America, White Families 10 Times We...\n",
       "1404    What a shot! 35 amazing sports photosPhotos: W...\n",
       "3028    The Officially Ignored Link Between Lyme Disea...\n",
       "Name: Text, Length: 2359, dtype: object"
      ]
     },
     "execution_count": 18,
     "metadata": {},
     "output_type": "execute_result"
    }
   ],
   "source": [
    "df[\"Text\"] = df[\"Headline\"].map(str) + df[\"Body\"]\n",
    "y = df.Label\n",
    "y = y.astype('str')\n",
    "X_train, X_test, Y_train, Y_test = train_test_split(df['Text'],y, test_size=0.33)\n",
    "X_train"
   ]
  },
  {
   "cell_type": "code",
   "execution_count": 19,
   "metadata": {},
   "outputs": [],
   "source": [
    "#Tf-idf Bigrams\n",
    "#Initialize the `tfidf_vectorizer` \n",
    "tfidf_vectorizer = TfidfVectorizer(stop_words='english', ngram_range = (2,2)) \n",
    "\n",
    "# Fit and transform the training data \n",
    "tfidf1_train = tfidf_vectorizer.fit_transform(X_train.astype('str')) \n",
    "\n",
    "# Transform the test set \n",
    "tfidf1_test = tfidf_vectorizer.transform(X_test.astype('str'))\n",
    "\n",
    "pickle.dump(tfidf1_train, open(\"tfidf1_train.pickle\", \"wb\"))\n",
    "\n",
    "pickle.dump(tfidf1_test, open(\"tfidf1_test.pickle\", \"wb\"))"
   ]
  },
  {
   "cell_type": "code",
   "execution_count": 20,
   "metadata": {},
   "outputs": [
    {
     "data": {
      "text/plain": [
       "['álvaro garcía',\n",
       " 'école nationale',\n",
       " 'émigrés markovits',\n",
       " 'émigrés sinking',\n",
       " 'ðÿ giveusthesauce',\n",
       " 'œbrilliant man',\n",
       " 'əˈnänəməs adjective',\n",
       " 'ʺevery friends',\n",
       " 'ʺhe missed',\n",
       " '殆ww reverbnation']"
      ]
     },
     "execution_count": 20,
     "metadata": {},
     "output_type": "execute_result"
    }
   ],
   "source": [
    "#Top 10 tfidf bigrams \n",
    "tfidf_vectorizer.get_feature_names()[-10:]"
   ]
  },
  {
   "cell_type": "code",
   "execution_count": 21,
   "metadata": {},
   "outputs": [
    {
     "data": {
      "text/plain": [
       "<2359x430304 sparse matrix of type '<class 'numpy.float64'>'\n",
       "\twith 594697 stored elements in Compressed Sparse Row format>"
      ]
     },
     "execution_count": 21,
     "metadata": {},
     "output_type": "execute_result"
    }
   ],
   "source": [
    "tfidf1_train"
   ]
  },
  {
   "cell_type": "code",
   "execution_count": 22,
   "metadata": {},
   "outputs": [],
   "source": [
    "#Confusion Matrix\n",
    "def plot_confusion_matrix(cm, classes,\n",
    "                          normalize=False,\n",
    "                          title='Confusion matrix',\n",
    "                          cmap=plt.cm.Blues):\n",
    "\n",
    "    plt.imshow(cm, interpolation='nearest', cmap=cmap)\n",
    "    plt.title(title)\n",
    "    plt.colorbar()\n",
    "    tick_marks = np.arange(len(classes))\n",
    "    plt.xticks(tick_marks, classes, rotation=45)\n",
    "    plt.yticks(tick_marks, classes)\n",
    "\n",
    "    if normalize:\n",
    "        cm = cm.astype('float') / cm.sum(axis=1)[:, np.newaxis]\n",
    "        print(\"Normalized confusion matrix\")\n",
    "    else:\n",
    "        print('Confusion matrix')\n",
    "\n",
    "    thresh = cm.max() / 2.\n",
    "    for i, j in itertools.product(range(cm.shape[0]), range(cm.shape[1])):\n",
    "        plt.text(j, i, cm[i, j],\n",
    "                 horizontalalignment=\"center\",\n",
    "                 color=\"white\" if cm[i, j] > thresh else \"black\")\n",
    "\n",
    "    plt.tight_layout()\n",
    "    plt.ylabel('True label')\n",
    "    plt.xlabel('Predicted label')"
   ]
  },
  {
   "cell_type": "code",
   "execution_count": 23,
   "metadata": {},
   "outputs": [
    {
     "name": "stdout",
     "output_type": "stream",
     "text": [
      "Accuracy with Multinomial Naive Bayes:   0.974\n"
     ]
    }
   ],
   "source": [
    "clf = MultinomialNB()\n",
    "clf.fit(tfidf1_train, Y_train)\n",
    "pickle.dump(clf, open('tfidf_nb', 'wb'))\n",
    "pred = clf.predict(tfidf1_test)\n",
    "score = metrics.accuracy_score(Y_test, pred)\n",
    "print(\"Accuracy with Multinomial Naive Bayes:   %0.3f\" % score)"
   ]
  },
  {
   "cell_type": "code",
   "execution_count": 26,
   "metadata": {},
   "outputs": [
    {
     "name": "stdout",
     "output_type": "stream",
     "text": [
      "Confusion matrix\n"
     ]
    },
    {
     "data": {
      "image/png": "[encoded data removed]",
      "text/plain": [
       "<Figure size 432x288 with 2 Axes>"
      ]
     },
     "metadata": {
      "needs_background": "light"
     },
     "output_type": "display_data"
    }
   ],
   "source": [
    "cm = metrics.confusion_matrix(Y_test, pred, labels=['FAKE', 'REAL'])\n",
    "plot_confusion_matrix(cm, classes=['FAKE', 'REAL'])"
   ]
  },
  {
   "cell_type": "code",
   "execution_count": 28,
   "metadata": {},
   "outputs": [
    {
     "name": "stdout",
     "output_type": "stream",
     "text": [
      "Accuracy with Gradient Boosting:   0.955\n"
     ]
    }
   ],
   "source": [
    "clf = GradientBoostingClassifier()\n",
    "clf.fit(tfidf1_train, Y_train)\n",
    "pickle.dump(clf, open('tfidf_gb', 'wb'))\n",
    "#model = pickle.load(open('tfidf_gb', 'rb'))\n",
    "pred = clf.predict(tfidf1_test)\n",
    "score = metrics.accuracy_score(Y_test, pred)\n",
    "print(\"Accuracy with Gradient Boosting:   %0.3f\" % score)"
   ]
  },
  {
   "cell_type": "code",
   "execution_count": 29,
   "metadata": {},
   "outputs": [
    {
     "name": "stdout",
     "output_type": "stream",
     "text": [
      "Confusion matrix\n"
     ]
    },
    {
     "data": {
      "image/png": "[encoded data removed]",
      "text/plain": [
       "<Figure size 432x288 with 2 Axes>"
      ]
     },
     "metadata": {
      "needs_background": "light"
     },
     "output_type": "display_data"
    }
   ],
   "source": [
    "cm = metrics.confusion_matrix(Y_test, pred, labels=['FAKE', 'REAL'])\n",
    "plot_confusion_matrix(cm, classes=['FAKE', 'REAL'])"
   ]
  },
  {
   "cell_type": "code",
   "execution_count": 24,
   "metadata": {},
   "outputs": [
    {
     "name": "stderr",
     "output_type": "stream",
     "text": [
      "C:\\Users\\DELL\\Anaconda3\\lib\\site-packages\\sklearn\\ensemble\\forest.py:246: FutureWarning: The default value of n_estimators will change from 10 in version 0.20 to 100 in 0.22.\n",
      "  \"10 in version 0.20 to 100 in 0.22.\", FutureWarning)\n"
     ]
    },
    {
     "name": "stdout",
     "output_type": "stream",
     "text": [
      "Accuracy with RandomForestClassifier:   0.859\n"
     ]
    }
   ],
   "source": [
    "clf = RandomForestClassifier()\n",
    "clf.fit(tfidf1_train, Y_train)\n",
    "pickle.dump(clf, open('tfidf_rf', 'wb'))\n",
    "pred = clf.predict(tfidf1_test)\n",
    "score = metrics.accuracy_score(Y_test, pred)\n",
    "print(\"Accuracy with RandomForestClassifier:   %0.3f\" % score)#takes 4 minutes"
   ]
  },
  {
   "cell_type": "code",
   "execution_count": 26,
   "metadata": {},
   "outputs": [
    {
     "name": "stdout",
     "output_type": "stream",
     "text": [
      "Confusion matrix\n"
     ]
    },
    {
     "data": {
      "image/png": "[encoded data removed]",
      "text/plain": [
       "<Figure size 432x288 with 2 Axes>"
      ]
     },
     "metadata": {
      "needs_background": "light"
     },
     "output_type": "display_data"
    }
   ],
   "source": [
    "cm = metrics.confusion_matrix(Y_test, pred, labels=['FAKE', 'REAL'])\n",
    "plot_confusion_matrix(cm, classes=['FAKE', 'REAL'])"
   ]
  },
  {
   "cell_type": "code",
   "execution_count": 38,
   "metadata": {},
   "outputs": [],
   "source": [
    "#Generating the POS tags for all the articles and adding a new column by replacing text with their POS tags\n",
    "nlp = spacy.load('en_core_web_sm')\n",
    "x = []\n",
    "df[\"Text\"] = df[\"Headline\"].map(str) + df[\"Body\"]\n",
    "for text in df['Text']:\n",
    "    text_new = []\n",
    "    doc = nlp(text)\n",
    "    for token in doc:\n",
    "        text_new.append(token.pos_)\n",
    "    txt = ' '.join(text_new)\n",
    "    x.append(txt)\n",
    "df['Text_pos'] = x\n",
    "df.to_pickle('newdata.pkl')"
   ]
  },
  {
   "cell_type": "code",
   "execution_count": 32,
   "metadata": {},
   "outputs": [],
   "source": [
    "df = pd.read_pickle('newdata.pkl')\n",
    "cnt = 0\n",
    "ind = []\n",
    "for art in df['Body']:\n",
    "    #print(type(art))\n",
    "    if len(str(art)) < 10:\n",
    "        ind.append(cnt)\n",
    "    cnt+=1\n",
    "df = df.drop(df.index[ind])"
   ]
  },
  {
   "cell_type": "code",
   "execution_count": 33,
   "metadata": {},
   "outputs": [
    {
     "data": {
      "text/plain": [
       "890     PROPN PROPN PROPN VERB NOUN PUNCT NOUN VERB VE...\n",
       "1741    NUM NOUN PROPN PROPN VERB DET NOUN ADP NOUN NO...\n",
       "693     NUM ADP PROPN PART ADJ NOUN PUNCT ADV NOUN PUN...\n",
       "3329    PROPN PROPN PROPN ADP PROPN PROPN VERB PROPN P...\n",
       "951     PROPN ADV VERB NOUN NOUN ADP ADJ NOUN PUNCT NO...\n",
       "1062    PROPN NOUN VERB ADP PROPN PROPN PROPN PROPN AD...\n",
       "463     PROPN PART ADJ PROPN ADP PROPN PROPN ADP PROPN...\n",
       "4002    DET NOUN NOUN ADP PROPN PART NOUN ADP PROPN NO...\n",
       "181     NOUN VERB VERB ADP NOUN ADP NOUN ADP ADP PRON ...\n",
       "2487    PROPN PUNCT VERB NOUN ADP PUNCT PROPN PROPN AD...\n",
       "2069    VERB DET PROPN PUNCT PROPN PROPN PROPN VERB AD...\n",
       "856     ADJ PROPN NOUN PROPN PROPN PART NOUN ADP ADJ P...\n",
       "2644    PROPN PROPN ADP PROPN VERB PART VERB NOUN PROP...\n",
       "1890    NOUN NOUN NOUN VERB VERB VERB PUNCT VERB PART ...\n",
       "752     PROPN PROPN PROPN PROPN PUNCT PROPN PUNCT ADP ...\n",
       "603     PROPN PROPN PROPN PROPN PROPN ADP DET PROPN PR...\n",
       "1418    PROPN VERB PROPN PART VERB PUNCT PROPN PROPN C...\n",
       "1598    PROPN VERB NOUN ADP ADJ ADP ADP PRON ADP PROPN...\n",
       "1642    PROPN PROPN PROPN VERB VERB NOUN PART VERB PRO...\n",
       "315     NUM ADJ PROPN ADP NUM PROPN PROPN PUNCT PROPN ...\n",
       "3887    PROPN NOUN VERB VERB NOUN PUNCT NOUN ADP PROPN...\n",
       "78      PROPN ADV ADV VERB VERB NOUN ADP PROPN NOUN NO...\n",
       "2877    ADV DET NOUN NOUN NOUN VERB VERB PUNCT VERB PA...\n",
       "2170    NUM PUNCT PROPN PROPN PUNCT PROPN PUNCT PROPN ...\n",
       "1329    PROPN PROPN VERB PRON VERB DET PROPN PUNCT PRO...\n",
       "23      PROPN PROPN VERB ADP PROPN PROPN VERB DET NOUN...\n",
       "1689    NUM PROPN PROPN PUNCT PROPN PROPN PUNCT PROPN ...\n",
       "1328    PROPN VERB PROPN PROPN ADP NOUN ADP PROPN PROP...\n",
       "2281    PROPN ADP PROPN PUNCT PROPN NOUN ADJ VERB ADJ ...\n",
       "3547    PROPN PROPN PROPN VERB PROPN PROPN VERB ADJ NO...\n",
       "                              ...                        \n",
       "704     VERB ADP PROPN PROPN ADP NOUN ADP PROPN PROPN ...\n",
       "2037    ADJ PROPN PROPN VERB ADP PROPN PROPN PROPN PRO...\n",
       "3845    PROPN PROPN PROPN PROPN PROPN PROPN PROPN PROP...\n",
       "3276    PROPN NOUN PUNCT ADV ADV NUM ADJ ADP NOUN VERB...\n",
       "2851    ADJ NOUN NOUN VERB NOUN ADP ADJ NOUN PROPN PUN...\n",
       "2159    PROPN ADP PROPN PUNCT PROPN CCONJ PROPN PROPN ...\n",
       "82      PROPN PROPN PROPN ADP PRON VERB ADP VERB ADP A...\n",
       "786     NUM PROPN PROPN PROPN PROPN PUNCT PROPN NUM PR...\n",
       "1939    PROPN PROPN ADP PROPN PROPN ADP NUM NOUN ADP P...\n",
       "475     PROPN NOUN PART NOUN VERB VERB VERB PROPN PROP...\n",
       "2110    PROPN NOUN PUNCT NOUN VERB SYM NUM NOUN NOUN A...\n",
       "3458    ADJ NOUN VERB NUM NOUN VERB ADJ ADP PROPN ADJ ...\n",
       "157     PROPN PROPN PUNCT PROPN NOUN VERB PROPN PROPN ...\n",
       "2810    PROPN PROPN PUNCT VERB ADV ADV VERB ADP VERB P...\n",
       "2603    NOUN VERB ADV VERB ADV PROPN PROPN NOUN VERB P...\n",
       "501     PROPN PROPN NOUN VERB PROPN PROPN ADP PROPN PU...\n",
       "304     PROPN PROPN PROPN NUM PROPN PROPN PROPN PROPN ...\n",
       "1120    PROPN PUNCT NUM PART VERB PUNCT PROPN ADP PROP...\n",
       "2468    PROPN VERB ADP PROPN PROPN NOUN NOUN NOUN PROP...\n",
       "74      PROPN VERB ADP NOUN ADP NOUN PROPN VERB VERB A...\n",
       "104     NOUN PUNCT NOUN VERB ADV ADP PROPN PUNCT NOUN ...\n",
       "93      PROPN CCONJ DET NOUN PART NOUN NOUN PROPN PROP...\n",
       "1104    NUM ADP DET NOUN PROPN PUNCT PROPN PROPN PUNCT...\n",
       "1683    PROPN PROPN NOUN VERB PART VERB VERB NOUN PUNC...\n",
       "3829    NOUN VERB ADP DET PROPN PART PUNCT PROPN PUNCT...\n",
       "3405    PROPN VERB PART VERB PROPN NOUN NOUN ADP ADJ N...\n",
       "1653    NOUN PUNCT PROPN CCONJ PROPN PUNCT PROPN PROPN...\n",
       "2560    NUM NOUN NOUN VERB NOUN ADP DET ADJ PROPN PUNC...\n",
       "2333    PROPN PROPN PUNCT PROPN NOUN PART VERB NOUN NO...\n",
       "1590    VERB NOUN VERB ADV DET PROPN PUNCT PROPN PROPN...\n",
       "Name: Text_pos, Length: 2359, dtype: object"
      ]
     },
     "execution_count": 33,
     "metadata": {},
     "output_type": "execute_result"
    }
   ],
   "source": [
    "y = df.Label\n",
    "y = y.astype('str')\n",
    "x_train, x_test, y_train, y_test = train_test_split(df['Text_pos'],y, test_size=0.33)\n",
    "x_train"
   ]
  },
  {
   "cell_type": "code",
   "execution_count": 34,
   "metadata": {},
   "outputs": [],
   "source": [
    "#Initialize the `tfidf_vectorizer` \n",
    "tfidf_vectorizer = TfidfVectorizer(stop_words='english', ngram_range = (2,2)) \n",
    "\n",
    "# Fit and transform the training data \n",
    "tfidf_train = tfidf_vectorizer.fit_transform(x_train.astype('str')) \n",
    "\n",
    "# Transform the test set \n",
    "tfidf_test = tfidf_vectorizer.transform(x_test.astype('str'))\n",
    "\n",
    "pickle.dump(tfidf_train, open(\"tfidf_train.pickle\", \"wb\"))\n",
    "\n",
    "pickle.dump(tfidf_test, open(\"tfidf_test.pickle\", \"wb\"))"
   ]
  },
  {
   "cell_type": "code",
   "execution_count": 35,
   "metadata": {},
   "outputs": [
    {
     "data": {
      "text/plain": [
       "['verb det',\n",
       " 'verb intj',\n",
       " 'verb noun',\n",
       " 'verb num',\n",
       " 'verb pron',\n",
       " 'verb propn',\n",
       " 'verb punct',\n",
       " 'verb space',\n",
       " 'verb sym',\n",
       " 'verb verb']"
      ]
     },
     "execution_count": 35,
     "metadata": {},
     "output_type": "execute_result"
    }
   ],
   "source": [
    "tfidf_vectorizer.get_feature_names()[-10:]"
   ]
  },
  {
   "cell_type": "code",
   "execution_count": 36,
   "metadata": {},
   "outputs": [
    {
     "data": {
      "text/plain": [
       "<2359x193 sparse matrix of type '<class 'numpy.float64'>'\n",
       "\twith 174659 stored elements in Compressed Sparse Row format>"
      ]
     },
     "execution_count": 36,
     "metadata": {},
     "output_type": "execute_result"
    }
   ],
   "source": [
    "tfidf_train"
   ]
  },
  {
   "cell_type": "code",
   "execution_count": 37,
   "metadata": {},
   "outputs": [
    {
     "name": "stdout",
     "output_type": "stream",
     "text": [
      "Accuracy with Multinomial Naive Bayes:   0.790\n"
     ]
    }
   ],
   "source": [
    "clf = MultinomialNB()\n",
    "clf.fit(tfidf_train, y_train)\n",
    "pickle.dump(clf, open('pos_nb', 'wb'))\n",
    "pred = clf.predict(tfidf_test)\n",
    "score = metrics.accuracy_score(y_test, pred)\n",
    "print(\"Accuracy with Multinomial Naive Bayes:   %0.3f\" % score)"
   ]
  },
  {
   "cell_type": "code",
   "execution_count": 39,
   "metadata": {},
   "outputs": [
    {
     "name": "stdout",
     "output_type": "stream",
     "text": [
      "Confusion matrix\n"
     ]
    },
    {
     "data": {
      "image/png": "[encoded data removed]",
      "text/plain": [
       "<Figure size 432x288 with 2 Axes>"
      ]
     },
     "metadata": {
      "needs_background": "light"
     },
     "output_type": "display_data"
    }
   ],
   "source": [
    "cm = metrics.confusion_matrix(y_test, pred, labels=['FAKE', 'REAL'])\n",
    "plot_confusion_matrix(cm, classes=['FAKE', 'REAL'])"
   ]
  },
  {
   "cell_type": "code",
   "execution_count": 44,
   "metadata": {},
   "outputs": [
    {
     "name": "stdout",
     "output_type": "stream",
     "text": [
      "Accuracy with RandomForestClassifier:   0.866\n"
     ]
    }
   ],
   "source": [
    "clf = RandomForestClassifier()\n",
    "clf.fit(tfidf_train, y_train)\n",
    "pickle.dump(clf, open('pos_rf', 'wb'))\n",
    "pred = clf.predict(tfidf_test)\n",
    "score = metrics.accuracy_score(y_test, pred)\n",
    "print(\"Accuracy with RandomForestClassifier:   %0.3f\" % score)"
   ]
  },
  {
   "cell_type": "code",
   "execution_count": 45,
   "metadata": {},
   "outputs": [
    {
     "name": "stdout",
     "output_type": "stream",
     "text": [
      "Confusion matrix\n"
     ]
    },
    {
     "data": {
      "image/png": "[encoded data removed]",
      "text/plain": [
       "<Figure size 432x288 with 2 Axes>"
      ]
     },
     "metadata": {},
     "output_type": "display_data"
    }
   ],
   "source": [
    "cm = metrics.confusion_matrix(y_test, pred, labels=['FAKE', 'REAL'])\n",
    "plot_confusion_matrix(cm, classes=['FAKE', 'REAL'])"
   ]
  },
  {
   "cell_type": "code",
   "execution_count": 46,
   "metadata": {},
   "outputs": [
    {
     "name": "stdout",
     "output_type": "stream",
     "text": [
      "Accuracy with Gradient Boosting:   0.883\n"
     ]
    }
   ],
   "source": [
    "clf = GradientBoostingClassifier()\n",
    "clf.fit(tfidf_train, y_train)\n",
    "pickle.dump(clf, open('pos_gb', 'wb'))\n",
    "pred = clf.predict(tfidf_test)\n",
    "score = metrics.accuracy_score(y_test, pred)\n",
    "print(\"Accuracy with Gradient Boosting:   %0.3f\" % score)"
   ]
  },
  {
   "cell_type": "code",
   "execution_count": 47,
   "metadata": {},
   "outputs": [
    {
     "name": "stdout",
     "output_type": "stream",
     "text": [
      "Confusion matrix\n"
     ]
    },
    {
     "data": {
      "image/png": "[encoded data removed]",
      "text/plain": [
       "<Figure size 432x288 with 2 Axes>"
      ]
     },
     "metadata": {},
     "output_type": "display_data"
    }
   ],
   "source": [
    "cm = metrics.confusion_matrix(y_test, pred, labels=['FAKE', 'REAL'])\n",
    "plot_confusion_matrix(cm, classes=['FAKE', 'REAL'])"
   ]
  },
  {
   "cell_type": "code",
   "execution_count": 31,
   "metadata": {},
   "outputs": [],
   "source": [
    "#Getting the score of semantic categories generated by Empath of each article and generating a tfidf vector of the unigrams \n",
    "lexicon = Empath()\n",
    "semantic = []\n",
    "cnt = 0\n",
    "df[\"Text\"] = df[\"Headline\"].map(str) + df[\"Body\"]\n",
    "\n",
    "for article in df['Text']:\n",
    "    if article == '':\n",
    "        continue\n",
    "    cnt+=1\n",
    "    d = lexicon.analyze(article, normalize = False)\n",
    "    x = []\n",
    "    for key, value in d.items():\n",
    "        x.append(value)\n",
    "    x = np.asarray(x)\n",
    "    semantic.append(x)\n",
    "df['Semantic'] = semantic"
   ]
  },
  {
   "cell_type": "code",
   "execution_count": 32,
   "metadata": {},
   "outputs": [
    {
     "data": {
      "text/plain": [
       "['exercise',\n",
       " 'horror',\n",
       " 'hearing',\n",
       " 'college',\n",
       " 'science',\n",
       " 'car',\n",
       " 'government',\n",
       " 'toy',\n",
       " 'rural',\n",
       " 'poor',\n",
       " 'strength',\n",
       " 'music',\n",
       " 'weather',\n",
       " 'payment',\n",
       " 'disappointment',\n",
       " 'dispute',\n",
       " 'leader',\n",
       " 'trust',\n",
       " 'shame',\n",
       " 'help',\n",
       " 'musical',\n",
       " 'appearance',\n",
       " 'breaking',\n",
       " 'ocean',\n",
       " 'clothing',\n",
       " 'farming',\n",
       " 'traveling',\n",
       " 'fabric',\n",
       " 'social_media',\n",
       " 'nervousness',\n",
       " 'pride',\n",
       " 'joy',\n",
       " 'achievement',\n",
       " 'zest',\n",
       " 'writing',\n",
       " 'ridicule',\n",
       " 'anticipation',\n",
       " 'suffering',\n",
       " 'leisure',\n",
       " 'driving',\n",
       " 'party',\n",
       " 'occupation',\n",
       " 'sympathy',\n",
       " 'reading',\n",
       " 'power',\n",
       " 'banking',\n",
       " 'communication',\n",
       " 'healing',\n",
       " 'ancient',\n",
       " 'masculine',\n",
       " 'emotional',\n",
       " 'affection',\n",
       " 'messaging',\n",
       " 'cooking',\n",
       " 'terrorism',\n",
       " 'swimming',\n",
       " 'confusion',\n",
       " 'death',\n",
       " 'negative_emotion',\n",
       " 'sound',\n",
       " 'valuable',\n",
       " 'beach',\n",
       " 'law',\n",
       " 'beauty',\n",
       " 'anger',\n",
       " 'superhero',\n",
       " 'sailing',\n",
       " 'restaurant',\n",
       " 'family',\n",
       " 'cold',\n",
       " 'rage',\n",
       " 'economics',\n",
       " 'cleaning',\n",
       " 'play',\n",
       " 'exasperation',\n",
       " 'exotic',\n",
       " 'weapon',\n",
       " 'positive_emotion',\n",
       " 'ugliness',\n",
       " 'royalty',\n",
       " 'speaking',\n",
       " 'dominant_personality',\n",
       " 'politics',\n",
       " 'hygiene',\n",
       " 'feminine',\n",
       " 'alcohol',\n",
       " 'religion',\n",
       " 'violence',\n",
       " 'envy',\n",
       " 'medical_emergency',\n",
       " 'fight',\n",
       " 'animal',\n",
       " 'domestic_work',\n",
       " 'war',\n",
       " 'contentment',\n",
       " 'phone',\n",
       " 'shape_and_size',\n",
       " 'timidity',\n",
       " 'independence',\n",
       " 'business',\n",
       " 'torment',\n",
       " 'internet',\n",
       " 'heroic',\n",
       " 'vacation',\n",
       " 'crime',\n",
       " 'gain',\n",
       " 'philosophy',\n",
       " 'divine',\n",
       " 'giving',\n",
       " 'money',\n",
       " 'love',\n",
       " 'home',\n",
       " 'monster',\n",
       " 'sexual',\n",
       " 'blue_collar_job',\n",
       " 'meeting',\n",
       " 'dance',\n",
       " 'stealing',\n",
       " 'noise',\n",
       " 'sadness',\n",
       " 'school',\n",
       " 'order',\n",
       " 'fire',\n",
       " 'plant',\n",
       " 'neglect',\n",
       " 'vehicle',\n",
       " 'ship',\n",
       " 'smell',\n",
       " 'legend',\n",
       " 'weakness',\n",
       " 'worship',\n",
       " 'fashion',\n",
       " 'negotiate',\n",
       " 'movement',\n",
       " 'journalism',\n",
       " 'sleep',\n",
       " 'fear',\n",
       " 'celebration',\n",
       " 'programming',\n",
       " 'children',\n",
       " 'work',\n",
       " 'childish',\n",
       " 'medieval',\n",
       " 'night',\n",
       " 'friends',\n",
       " 'urban',\n",
       " 'dominant_heirarchical',\n",
       " 'body',\n",
       " 'surprise',\n",
       " 'youth',\n",
       " 'hipster',\n",
       " 'aggression',\n",
       " 'wealthy',\n",
       " 'competing',\n",
       " 'shopping',\n",
       " 'lust',\n",
       " 'furniture',\n",
       " 'warmth',\n",
       " 'wedding',\n",
       " 'art',\n",
       " 'optimism',\n",
       " 'real_estate',\n",
       " 'fun',\n",
       " 'office',\n",
       " 'military',\n",
       " 'irritability',\n",
       " 'water',\n",
       " 'cheerfulness',\n",
       " 'sports',\n",
       " 'pain',\n",
       " 'politeness',\n",
       " 'technology',\n",
       " 'injury',\n",
       " 'health',\n",
       " 'prison',\n",
       " 'anonymity',\n",
       " 'computer',\n",
       " 'disgust',\n",
       " 'hate',\n",
       " 'pet',\n",
       " 'eating',\n",
       " 'white_collar_job',\n",
       " 'liquid',\n",
       " 'kill',\n",
       " 'attractive',\n",
       " 'hiking',\n",
       " 'magic',\n",
       " 'air_travel',\n",
       " 'deception',\n",
       " 'morning',\n",
       " 'swearing_terms',\n",
       " 'tourism',\n",
       " 'listen',\n",
       " 'tool']"
      ]
     },
     "execution_count": 32,
     "metadata": {},
     "output_type": "execute_result"
    }
   ],
   "source": [
    "categories = []\n",
    "a = lexicon.analyze(\"\")\n",
    "for key, value in a.items():\n",
    "    categories.append(key)\n",
    "categories"
   ]
  },
  {
   "cell_type": "code",
   "execution_count": 33,
   "metadata": {},
   "outputs": [],
   "source": [
    "#TF-IDF vector by taking the score for a semantic class as its frequency.\n",
    "sem = []\n",
    "for i in range(df.shape[0]):\n",
    "    a = []\n",
    "    for j in range(len(semantic[0])):\n",
    "        for k in range(int(semantic[i][j])):\n",
    "            a.append(categories[j])\n",
    "    b = \" \".join(a)\n",
    "    sem.append(b)\n",
    "#print(len(sem))\n",
    "df['Semantics'] = sem\n",
    "df.to_pickle('Semantic.pkl')"
   ]
  },
  {
   "cell_type": "code",
   "execution_count": 34,
   "metadata": {},
   "outputs": [
    {
     "name": "stdout",
     "output_type": "stream",
     "text": [
      "Index(['Headline', 'Body', 'Label', 'headline_length', 'body_length',\n",
      "       'Body_pos', 'Text_pos', 'Text', 'Semantic', 'Semantics'],\n",
      "      dtype='object')\n",
      "(27865, 10)\n"
     ]
    }
   ],
   "source": [
    "df = pd.read_pickle('Semantic.pkl')\n",
    "print(df.columns)\n",
    "print(df.shape)"
   ]
  },
  {
   "cell_type": "code",
   "execution_count": 45,
   "metadata": {},
   "outputs": [
    {
     "data": {
      "text/plain": [
       "11942    [3.0, 1.0, 0.0, 0.0, 0.0, 2.0, 0.0, 0.0, 0.0, ...\n",
       "16974    [0.0, 0.0, 0.0, 2.0, 5.0, 0.0, 2.0, 1.0, 0.0, ...\n",
       "27421    [10.0, 6.0, 0.0, 7.0, 5.0, 2.0, 0.0, 10.0, 0.0...\n",
       "2099     [0.0, 3.0, 0.0, 0.0, 2.0, 0.0, 0.0, 0.0, 0.0, ...\n",
       "456      [1.0, 0.0, 0.0, 0.0, 1.0, 0.0, 0.0, 1.0, 1.0, ...\n",
       "20244    [4.0, 10.0, 0.0, 1.0, 2.0, 3.0, 1.0, 37.0, 0.0...\n",
       "18196    [2.0, 2.0, 0.0, 0.0, 0.0, 0.0, 0.0, 0.0, 0.0, ...\n",
       "4110     [6.0, 4.0, 1.0, 33.0, 3.0, 1.0, 0.0, 10.0, 0.0...\n",
       "7468     [3.0, 0.0, 0.0, 0.0, 4.0, 3.0, 1.0, 0.0, 2.0, ...\n",
       "16502    [0.0, 0.0, 0.0, 5.0, 2.0, 0.0, 0.0, 0.0, 0.0, ...\n",
       "18146    [3.0, 4.0, 0.0, 9.0, 1.0, 2.0, 1.0, 5.0, 2.0, ...\n",
       "6491     [0.0, 0.0, 0.0, 0.0, 1.0, 0.0, 0.0, 0.0, 0.0, ...\n",
       "111      [1.0, 1.0, 1.0, 1.0, 0.0, 3.0, 0.0, 0.0, 0.0, ...\n",
       "9181     [7.0, 0.0, 0.0, 0.0, 2.0, 0.0, 0.0, 0.0, 1.0, ...\n",
       "30433    [8.0, 8.0, 4.0, 3.0, 2.0, 0.0, 0.0, 2.0, 0.0, ...\n",
       "14557    [6.0, 0.0, 0.0, 2.0, 5.0, 1.0, 2.0, 0.0, 2.0, ...\n",
       "4720     [0.0, 0.0, 0.0, 0.0, 0.0, 0.0, 0.0, 0.0, 0.0, ...\n",
       "3608     [2.0, 0.0, 0.0, 0.0, 0.0, 0.0, 1.0, 3.0, 0.0, ...\n",
       "13548    [1.0, 3.0, 1.0, 2.0, 10.0, 0.0, 0.0, 0.0, 2.0,...\n",
       "2625     [1.0, 0.0, 0.0, 0.0, 0.0, 1.0, 0.0, 0.0, 0.0, ...\n",
       "18943    [0.0, 0.0, 0.0, 0.0, 0.0, 0.0, 0.0, 0.0, 0.0, ...\n",
       "718      [0.0, 0.0, 0.0, 0.0, 1.0, 1.0, 0.0, 0.0, 0.0, ...\n",
       "27068    [0.0, 3.0, 9.0, 1.0, 0.0, 1.0, 1.0, 0.0, 1.0, ...\n",
       "19956    [0.0, 1.0, 0.0, 1.0, 2.0, 1.0, 0.0, 0.0, 0.0, ...\n",
       "10544    [1.0, 2.0, 3.0, 1.0, 2.0, 2.0, 4.0, 0.0, 2.0, ...\n",
       "23551    [5.0, 21.0, 2.0, 0.0, 2.0, 2.0, 2.0, 0.0, 2.0,...\n",
       "7966     [1.0, 3.0, 1.0, 0.0, 0.0, 0.0, 1.0, 0.0, 0.0, ...\n",
       "5769     [8.0, 1.0, 0.0, 4.0, 5.0, 3.0, 1.0, 0.0, 0.0, ...\n",
       "2996     [1.0, 3.0, 0.0, 1.0, 0.0, 1.0, 0.0, 0.0, 0.0, ...\n",
       "18231    [1.0, 1.0, 0.0, 1.0, 1.0, 2.0, 1.0, 0.0, 0.0, ...\n",
       "                               ...                        \n",
       "3976     [0.0, 0.0, 0.0, 0.0, 0.0, 0.0, 0.0, 0.0, 0.0, ...\n",
       "16011    [5.0, 3.0, 1.0, 2.0, 3.0, 2.0, 1.0, 1.0, 0.0, ...\n",
       "30158    [1.0, 0.0, 0.0, 4.0, 0.0, 0.0, 1.0, 0.0, 0.0, ...\n",
       "24756    [1.0, 1.0, 1.0, 29.0, 4.0, 12.0, 3.0, 0.0, 0.0...\n",
       "9744     [0.0, 0.0, 0.0, 0.0, 0.0, 0.0, 2.0, 0.0, 0.0, ...\n",
       "6742     [0.0, 0.0, 0.0, 0.0, 0.0, 0.0, 0.0, 0.0, 0.0, ...\n",
       "29164    [0.0, 1.0, 0.0, 1.0, 0.0, 0.0, 0.0, 0.0, 2.0, ...\n",
       "22397    [1.0, 1.0, 0.0, 0.0, 0.0, 0.0, 2.0, 0.0, 0.0, ...\n",
       "23677    [0.0, 1.0, 0.0, 0.0, 3.0, 0.0, 0.0, 1.0, 1.0, ...\n",
       "17697    [3.0, 5.0, 0.0, 2.0, 6.0, 1.0, 0.0, 0.0, 0.0, ...\n",
       "9816     [0.0, 0.0, 0.0, 0.0, 0.0, 1.0, 1.0, 1.0, 1.0, ...\n",
       "25184    [0.0, 1.0, 1.0, 1.0, 0.0, 0.0, 3.0, 0.0, 0.0, ...\n",
       "10549    [0.0, 0.0, 0.0, 0.0, 0.0, 0.0, 0.0, 0.0, 0.0, ...\n",
       "28306    [4.0, 3.0, 1.0, 11.0, 2.0, 4.0, 1.0, 5.0, 18.0...\n",
       "9630     [4.0, 2.0, 0.0, 2.0, 1.0, 0.0, 1.0, 3.0, 1.0, ...\n",
       "22319    [0.0, 0.0, 1.0, 0.0, 1.0, 0.0, 0.0, 0.0, 0.0, ...\n",
       "22338    [0.0, 0.0, 0.0, 0.0, 0.0, 0.0, 0.0, 0.0, 0.0, ...\n",
       "3762     [3.0, 1.0, 0.0, 3.0, 2.0, 0.0, 0.0, 0.0, 1.0, ...\n",
       "713      [3.0, 3.0, 0.0, 14.0, 0.0, 1.0, 0.0, 0.0, 0.0,...\n",
       "19414    [0.0, 2.0, 0.0, 1.0, 4.0, 2.0, 0.0, 0.0, 0.0, ...\n",
       "20956    [6.0, 2.0, 3.0, 4.0, 3.0, 0.0, 0.0, 0.0, 1.0, ...\n",
       "14044    [2.0, 3.0, 0.0, 6.0, 0.0, 0.0, 0.0, 0.0, 1.0, ...\n",
       "29172    [1.0, 2.0, 4.0, 1.0, 0.0, 0.0, 0.0, 2.0, 0.0, ...\n",
       "29737    [0.0, 0.0, 0.0, 0.0, 0.0, 0.0, 1.0, 0.0, 0.0, ...\n",
       "12776    [1.0, 4.0, 0.0, 1.0, 1.0, 0.0, 0.0, 0.0, 0.0, ...\n",
       "2003     [0.0, 1.0, 0.0, 1.0, 0.0, 1.0, 1.0, 1.0, 2.0, ...\n",
       "4296     [1.0, 1.0, 0.0, 0.0, 0.0, 0.0, 0.0, 0.0, 0.0, ...\n",
       "18732    [6.0, 8.0, 2.0, 0.0, 2.0, 0.0, 0.0, 1.0, 3.0, ...\n",
       "10326    [4.0, 2.0, 4.0, 6.0, 3.0, 1.0, 0.0, 1.0, 2.0, ...\n",
       "3600     [4.0, 3.0, 0.0, 0.0, 0.0, 0.0, 0.0, 3.0, 0.0, ...\n",
       "Name: Semantic, Length: 18669, dtype: object"
      ]
     },
     "execution_count": 45,
     "metadata": {},
     "output_type": "execute_result"
    }
   ],
   "source": [
    "y = df.Label\n",
    "y = y.astype('str')\n",
    "x_train, x_test, y_train, y_test = train_test_split(df['Semantics'],y, test_size=0.33)\n",
    "x_train"
   ]
  },
  {
   "cell_type": "code",
   "execution_count": null,
   "metadata": {},
   "outputs": [],
   "source": [
    "print(type(x_train))\n",
    "print(x_train.shape)"
   ]
  },
  {
   "cell_type": "code",
   "execution_count": null,
   "metadata": {},
   "outputs": [],
   "source": [
    "#Initialize the `tfidf_vectorizer` \n",
    "tfidf2_vectorizer = TfidfVectorizer(stop_words='english', ngram_range = (1,1)) \n",
    "\n",
    "# Fit and transform the training data \n",
    "tfidf2_train = tfidf2_vectorizer.fit_transform(x_train.astype('str')) \n",
    "\n",
    "# Transform the test set \n",
    "tfidf2_test = tfidf2_vectorizer.transform(x_test.astype('str'))\n",
    "\n",
    "pickle.dump(tfidf2_train, open(\"tfidf2_train.pickle\", \"wb\"))\n",
    "\n",
    "pickle.dump(tfidf2_test, open(\"tfidf2_test.pickle\", \"wb\"))"
   ]
  },
  {
   "cell_type": "code",
   "execution_count": null,
   "metadata": {},
   "outputs": [],
   "source": [
    "clf = MultinomialNB()\n",
    "#type(x_train.tolist())\n",
    "clf.fit(x_train.tolist(), y_train)\n",
    "pickle.dump(clf, open('sem_nb', 'wb'))\n",
    "pred = clf.predict(x_test.tolist())\n",
    "score = metrics.accuracy_score(y_test, pred)\n",
    "print(\"Accuracy with Multinomial Naive Bayes:   %0.3f\" % score)"
   ]
  },
  {
   "cell_type": "code",
   "execution_count": null,
   "metadata": {},
   "outputs": [],
   "source": [
    "clf = RandomForestClassifier()\n",
    "clf.fit(x_train.tolist(), y_train)\n",
    "pickle.dump(clf, open('sem_rf', 'wb'))\n",
    "pred = clf.predict(x_test.tolist())\n",
    "score = metrics.accuracy_score(y_test, pred)\n",
    "print(\"Accuracy with RandomForestClassifier:   %0.3f\" % score)"
   ]
  },
  {
   "cell_type": "code",
   "execution_count": null,
   "metadata": {},
   "outputs": [],
   "source": [
    "cm = metrics.confusion_matrix(y_test, pred, labels=['FAKE', 'REAL'])\n",
    "plot_confusion_matrix(cm, classes=['FAKE', 'REAL'])"
   ]
  },
  {
   "cell_type": "code",
   "execution_count": null,
   "metadata": {},
   "outputs": [],
   "source": [
    "clf = GradientBoostingClassifier()\n",
    "clf.fit(x_train.tolist(), y_train)\n",
    "pickle.dump(clf, open('sem_gb', 'wb'))\n",
    "pred = clf.predict(x_test.tolist())\n",
    "score = metrics.accuracy_score(y_test, pred)\n",
    "print(\"Accuracy with Gradient Boosting:   %0.3f\" % score)"
   ]
  },
  {
   "cell_type": "code",
   "execution_count": 58,
   "metadata": {},
   "outputs": [
    {
     "name": "stdout",
     "output_type": "stream",
     "text": [
      "Confusion matrix\n"
     ]
    },
    {
     "data": {
      "image/png": "[encoded data removed]",
      "text/plain": [
       "<Figure size 432x288 with 2 Axes>"
      ]
     },
     "metadata": {},
     "output_type": "display_data"
    }
   ],
   "source": [
    "cm = metrics.confusion_matrix(y_test, pred, labels=['FAKE', 'REAL'])\n",
    "plot_confusion_matrix(cm, classes=['FAKE', 'REAL'])"
   ]
  },
  {
   "cell_type": "code",
   "execution_count": null,
   "metadata": {},
   "outputs": [],
   "source": [
    "#Combining the 3 feature vectors\n",
    "import scipy.sparse as sp\n",
    "# ui = sp.vstack(tfidf_train, tfidf1_train)\n",
    "# yu = tfidf_train.data.tolist()\n",
    "# yu.append(tfidf1_train.tolist())\n",
    "# test = tfidf_test.data.tolist() + x_test.tolist()\n",
    "#print(type(tfidf_train), tfidf_train.shape)\n",
    "#print(type(tfidf1_train), tfidf1_train.shape)\n",
    "# print(type(x_train), x_train.shape)\n",
    "diff_n_rows = tfidf_train.shape[0] - tfidf1_train.shape[0]\n",
    "\n",
    "Xb_new = sp.vstack((tfidf1_train, sp.csr_matrix((diff_n_rows, tfidf1_train.shape[1])))) \n",
    "#where diff_n_rows is the difference of the number of rows between Xa and Xb\n",
    "\n",
    "c = sp.hstack((tfidf_train, Xb_new))\n",
    "\n",
    "diff_n_rows = c.shape[0] - tfidf2_train.shape[0]\n",
    "\n",
    "Xb_new = sp.vstack((tfidf2_train, sp.csr_matrix((diff_n_rows, tfidf2_train.shape[1])))) \n",
    "#where diff_n_rows is the difference of the number of rows between Xa and Xb\n",
    "\n",
    "X = sp.hstack((c, Xb_new))\n",
    "X\n",
    "\n",
    "dif_n_rows = tfidf_test.shape[0] - tfidf1_test.shape[0]\n",
    "\n",
    "Xb_ne = sp.vstack((tfidf1_test, sp.csr_matrix((dif_n_rows, tfidf1_test.shape[1])))) \n",
    "#where diff_n_rows is the difference of the number of rows between Xa and Xb\n",
    "\n",
    "d = sp.hstack((tfidf_test, Xb_ne))\n",
    "\n",
    "dif_n_rows = d.shape[0] - tfidf2_test.shape[0]\n",
    "\n",
    "Xb_ne = sp.vstack((tfidf2_test, sp.csr_matrix((dif_n_rows, tfidf2_test.shape[1])))) \n",
    "#where diff_n_rows is the difference of the number of rows between Xa and Xb\n",
    "\n",
    "Y = sp.hstack((d, Xb_ne))\n",
    "\n"
   ]
  },
  {
   "cell_type": "code",
   "execution_count": null,
   "metadata": {},
   "outputs": [],
   "source": [
    "clf = MultinomialNB()\n",
    "#print(type(train), type(y_train.tolist()))\n",
    "clf.fit(X, y_train)\n",
    "pickle.dump(clf, open('pos_sem_nb', 'wb'))\n",
    "pred = clf.predict(Y)\n",
    "score = metrics.accuracy_score(y_test, pred)\n",
    "print(\"Accuracy with Multinomial Naive Bayes:   %0.3f\" % score)"
   ]
  },
  {
   "cell_type": "code",
   "execution_count": null,
   "metadata": {},
   "outputs": [],
   "source": [
    "clf = RandomForestClassifier()\n",
    "clf.fit(X, y_train)\n",
    "pickle.dump(clf, open('pos_sem_rf', 'wb'))\n",
    "pred = clf.predict(Y)\n",
    "score = metrics.accuracy_score(y_test, pred)\n",
    "print(\"Accuracy with RandomForestClassifier:   %0.3f\" % score)"
   ]
  },
  {
   "cell_type": "code",
   "execution_count": null,
   "metadata": {},
   "outputs": [],
   "source": [
    "cm = metrics.confusion_matrix(y_test, pred, labels=['FAKE', 'REAL'])\n",
    "plot_confusion_matrix(cm, classes=['FAKE', 'REAL'])"
   ]
  },
  {
   "cell_type": "code",
   "execution_count": 174,
   "metadata": {},
   "outputs": [
    {
     "name": "stdout",
     "output_type": "stream",
     "text": [
      "Accuracy with Gradient Boosting:   0.882\n"
     ]
    }
   ],
   "source": [
    "clf = GradientBoostingClassifier()\n",
    "clf.fit(X, y_train)\n",
    "pickle.dump(clf, open('pos_sem_gb', 'wb'))\n",
    "pred = clf.predict(Y)\n",
    "score = metrics.accuracy_score(y_test, pred)\n",
    "print(\"Accuracy with Gradient Boosting:   %0.3f\" % score)"
   ]
  },
  {
   "cell_type": "code",
   "execution_count": 175,
   "metadata": {
    "scrolled": true
   },
   "outputs": [
    {
     "name": "stdout",
     "output_type": "stream",
     "text": [
      "Confusion matrix\n"
     ]
    },
    {
     "data": {
      "image/png": "[encoded data removed]",
      "text/plain": [
       "<Figure size 432x288 with 2 Axes>"
      ]
     },
     "metadata": {},
     "output_type": "display_data"
    }
   ],
   "source": [
    "cm = metrics.confusion_matrix(y_test, pred, labels=['FAKE', 'REAL'])\n",
    "plot_confusion_matrix(cm, classes=['FAKE', 'REAL'])"
   ]
  },
  {
   "cell_type": "code",
   "execution_count": null,
   "metadata": {},
   "outputs": [],
   "source": []
  },
  {
   "cell_type": "code",
   "execution_count": null,
   "metadata": {},
   "outputs": [],
   "source": []
  },
  {
   "cell_type": "code",
   "execution_count": 164,
   "metadata": {},
   "outputs": [
    {
     "name": "stdout",
     "output_type": "stream",
     "text": [
      "Index(['Headline', 'Body', 'Label', 'headline_length', 'body_length',\n",
      "       'Body_pos', 'Text_pos', 'Text', 'Semantic', 'Semantics'],\n",
      "      dtype='object')\n",
      "(27865, 10)\n"
     ]
    }
   ],
   "source": [
    "#Directly loading the final dateframe by loading the pickle file from the previously saved pickle file\n",
    "df = pd.read_pickle('Semantic.pkl')\n",
    "print(df.columns)\n",
    "print(df.shape)"
   ]
  },
  {
   "cell_type": "code",
   "execution_count": 165,
   "metadata": {},
   "outputs": [],
   "source": [
    "y = df.Label\n",
    "x_train, x_test, y_train, y_test = train_test_split(df,y, test_size=0.33)"
   ]
  },
  {
   "cell_type": "code",
   "execution_count": 166,
   "metadata": {},
   "outputs": [],
   "source": [
    "x_train_text = x_train['Text']\n",
    "x_test_text = x_test['Text']\n",
    "x_train_text_pos = x_train['Text_pos']\n",
    "x_test_text_pos = x_test['Text_pos']\n",
    "x_train_semantics = x_train['Semantics']\n",
    "x_test_semantics = x_test['Semantics']"
   ]
  },
  {
   "cell_type": "code",
   "execution_count": 167,
   "metadata": {},
   "outputs": [],
   "source": [
    "#Tf-idf Bigrams\n",
    "#Initialize the `tfidf_vectorizer` \n",
    "tfidf_vectorizer = TfidfVectorizer(stop_words='english', ngram_range = (2,2), max_features = 20000) \n",
    "\n",
    "# Fit and transform the training data \n",
    "tfidf1_train = tfidf_vectorizer.fit_transform(x_train_text.astype('str')) \n",
    "\n",
    "# Transform the test set \n",
    "tfidf1_test = tfidf_vectorizer.transform(x_test_text.astype('str'))\n",
    "\n",
    "pickle.dump(tfidf1_train, open(\"tfidf1_train.pickle\", \"wb\"))\n",
    "\n",
    "pickle.dump(tfidf1_test, open(\"tfidf1_test.pickle\", \"wb\"))"
   ]
  },
  {
   "cell_type": "code",
   "execution_count": 168,
   "metadata": {},
   "outputs": [],
   "source": [
    "#POS\n",
    "#Initialize the `tfidf_vectorizer` \n",
    "tfidf_vectorizer = TfidfVectorizer(stop_words='english', ngram_range = (2,2)) \n",
    "\n",
    "# Fit and transform the training data \n",
    "tfidf_train = tfidf_vectorizer.fit_transform(x_train_text_pos.astype('str')) \n",
    "\n",
    "# Transform the test set \n",
    "tfidf_test = tfidf_vectorizer.transform(x_test_text_pos.astype('str'))\n",
    "\n",
    "pickle.dump(tfidf_train, open(\"tfidf_train.pickle\", \"wb\"))\n",
    "\n",
    "pickle.dump(tfidf_test, open(\"tfidf_test.pickle\", \"wb\"))"
   ]
  },
  {
   "cell_type": "code",
   "execution_count": 169,
   "metadata": {},
   "outputs": [],
   "source": [
    "\n",
    "#Initialize the `tfidf_vectorizer` \n",
    "tfidf_vectorizer = TfidfVectorizer(stop_words='english', ngram_range = (1,1)) \n",
    "\n",
    "# Fit and transform the training data \n",
    "tfidf2_train = tfidf_vectorizer.fit_transform(x_train_semantics.astype('str')) \n",
    "\n",
    "# Transform the test set \n",
    "tfidf2_test = tfidf_vectorizer.transform(x_test_semantics.astype('str'))\n",
    "\n",
    "pickle.dump(tfidf2_train, open(\"tfidf_train.pickle\", \"wb\"))\n",
    "\n",
    "pickle.dump(tfidf2_test, open(\"tfidf_test.pickle\", \"wb\"))"
   ]
  },
  {
   "cell_type": "code",
   "execution_count": 170,
   "metadata": {},
   "outputs": [],
   "source": [
    "ttf1_train = tfidf1_train\n",
    "ttf1_test = tfidf1_test\n",
    "ttf_train = tfidf_train\n",
    "ttf_test = tfidf_test\n",
    "ttf2_train = tfidf2_train\n",
    "ttf2_test = tfidf2_test"
   ]
  },
  {
   "cell_type": "code",
   "execution_count": 218,
   "metadata": {},
   "outputs": [],
   "source": [
    "#Giving weights to each of the 3 feature vectors generated\n",
    "big_w = 0.35\n",
    "synt_w = 0.5\n",
    "sem_w = 0.15\n",
    "big_w *= 3\n",
    "synt_w *= 3\n",
    "sem_w *= 3\n",
    "tfidf1_train = big_w*ttf1_train\n",
    "tfidf1_test = big_w*ttf1_test\n",
    "tfidf_train = synt_w*ttf_train\n",
    "tfidf_test = synt_w*ttf_test\n",
    "tfidf2_train = sem_w*ttf2_train\n",
    "tfidf2_test = sem_w*ttf2_test"
   ]
  },
  {
   "cell_type": "code",
   "execution_count": 219,
   "metadata": {},
   "outputs": [],
   "source": [
    "import scipy.sparse as sp\n",
    "# ui = sp.vstack(tfidf_train, tfidf1_train)\n",
    "# yu = tfidf_train.data.tolist()\n",
    "# yu.append(tfidf1_train.tolist())\n",
    "# test = tfidf_test.data.tolist() + x_test.tolist()\n",
    "#print(type(tfidf_train), tfidf_train.shape)\n",
    "#print(type(tfidf1_train), tfidf1_train.shape)\n",
    "# print(type(x_train), x_train.shape)\n",
    "diff_n_rows = tfidf_train.shape[0] - tfidf1_train.shape[0]\n",
    "\n",
    "Xb_new = sp.vstack((tfidf1_train, sp.csr_matrix((diff_n_rows, tfidf1_train.shape[1])))) \n",
    "#where diff_n_rows is the difference of the number of rows between Xa and Xb\n",
    "\n",
    "c = sp.hstack((tfidf_train, Xb_new))\n",
    "\n",
    "diff_n_rows = c.shape[0] - tfidf2_train.shape[0]\n",
    "\n",
    "Xb_new = sp.vstack((tfidf2_train, sp.csr_matrix((diff_n_rows, tfidf2_train.shape[1])))) \n",
    "#where diff_n_rows is the difference of the number of rows between Xa and Xb\n",
    "\n",
    "X = sp.hstack((c, Xb_new))\n",
    "X\n",
    "\n",
    "dif_n_rows = tfidf_test.shape[0] - tfidf1_test.shape[0]\n",
    "\n",
    "Xb_ne = sp.vstack((tfidf1_test, sp.csr_matrix((dif_n_rows, tfidf1_test.shape[1])))) \n",
    "#where diff_n_rows is the difference of the number of rows between Xa and Xb\n",
    "\n",
    "d = sp.hstack((tfidf_test, Xb_ne))\n",
    "\n",
    "dif_n_rows = d.shape[0] - tfidf2_test.shape[0]\n",
    "\n",
    "Xb_ne = sp.vstack((tfidf2_test, sp.csr_matrix((dif_n_rows, tfidf2_test.shape[1])))) \n",
    "#where diff_n_rows is the difference of the number of rows between Xa and Xb\n",
    "\n",
    "Y = sp.hstack((d, Xb_ne))\n"
   ]
  },
  {
   "cell_type": "code",
   "execution_count": 220,
   "metadata": {},
   "outputs": [
    {
     "name": "stdout",
     "output_type": "stream",
     "text": [
      "Accuracy with Multinomial Naive Bayes:   0.927\n"
     ]
    }
   ],
   "source": [
    "clf = MultinomialNB()\n",
    "#type(x_train.tolist())\n",
    "clf.fit(X, y_train)\n",
    "pickle.dump(clf, open('bi_pos_sem_nb', 'wb'))\n",
    "pred = clf.predict(Y)\n",
    "score = metrics.accuracy_score(y_test, pred)\n",
    "print(\"Accuracy with Multinomial Naive Bayes:   %0.3f\" % score)"
   ]
  },
  {
   "cell_type": "code",
   "execution_count": 221,
   "metadata": {},
   "outputs": [
    {
     "name": "stdout",
     "output_type": "stream",
     "text": [
      "Confusion matrix\n"
     ]
    },
    {
     "data": {
      "image/png": "[encoded data removed]",
      "text/plain": [
       "<Figure size 432x288 with 2 Axes>"
      ]
     },
     "metadata": {},
     "output_type": "display_data"
    }
   ],
   "source": [
    "cm = metrics.confusion_matrix(y_test, pred, labels=['FAKE', 'REAL'])\n",
    "plot_confusion_matrix(cm, classes=['FAKE', 'REAL'])"
   ]
  },
  {
   "cell_type": "code",
   "execution_count": 222,
   "metadata": {},
   "outputs": [
    {
     "name": "stdout",
     "output_type": "stream",
     "text": [
      "Accuracy with RandomForestClassifier:   0.868\n"
     ]
    }
   ],
   "source": [
    "clf = RandomForestClassifier()\n",
    "clf.fit(X, y_train)\n",
    "pickle.dump(clf, open('bi_pos_sem_rf', 'wb'))\n",
    "pred = clf.predict(Y)\n",
    "score = metrics.accuracy_score(y_test, pred)\n",
    "print(\"Accuracy with RandomForestClassifier:   %0.3f\" % score)"
   ]
  },
  {
   "cell_type": "code",
   "execution_count": 223,
   "metadata": {},
   "outputs": [
    {
     "name": "stdout",
     "output_type": "stream",
     "text": [
      "Confusion matrix\n"
     ]
    },
    {
     "data": {
      "image/png": "[encoded data removed]",
      "text/plain": [
       "<Figure size 432x288 with 2 Axes>"
      ]
     },
     "metadata": {},
     "output_type": "display_data"
    }
   ],
   "source": [
    "cm = metrics.confusion_matrix(y_test, pred, labels=['FAKE', 'REAL'])\n",
    "plot_confusion_matrix(cm, classes=['FAKE', 'REAL'])"
   ]
  },
  {
   "cell_type": "code",
   "execution_count": 214,
   "metadata": {},
   "outputs": [
    {
     "name": "stdout",
     "output_type": "stream",
     "text": [
      "Accuracy with Gradient Boosting:   0.915\n"
     ]
    }
   ],
   "source": [
    "clf = GradientBoostingClassifier()\n",
    "clf.fit(X, y_train)\n",
    "pickle.dump(clf, open('pos_gb', 'wb'))\n",
    "pred = clf.predict(Y)\n",
    "score = metrics.accuracy_score(y_test, pred)\n",
    "print(\"Accuracy with Gradient Boosting:   %0.3f\" % score)"
   ]
  },
  {
   "cell_type": "code",
   "execution_count": 215,
   "metadata": {},
   "outputs": [
    {
     "name": "stdout",
     "output_type": "stream",
     "text": [
      "Confusion matrix\n"
     ]
    },
    {
     "data": {
      "image/png": "[encoded data removed]",
      "text/plain": [
       "<Figure size 432x288 with 2 Axes>"
      ]
     },
     "metadata": {},
     "output_type": "display_data"
    }
   ],
   "source": [
    "cm = metrics.confusion_matrix(y_test, pred, labels=['FAKE', 'REAL'])\n",
    "plot_confusion_matrix(cm, classes=['FAKE', 'REAL'])"
   ]
  },
  {
   "cell_type": "code",
   "execution_count": null,
   "metadata": {},
   "outputs": [],
   "source": []
  },
  {
   "cell_type": "code",
   "execution_count": null,
   "metadata": {},
   "outputs": [],
   "source": []
  },
  {
   "cell_type": "code",
   "execution_count": null,
   "metadata": {},
   "outputs": [],
   "source": [
    "#For testing any new article \n",
    "a = (open('a.txt'))\n",
    "x_test = a.read()"
   ]
  },
  {
   "cell_type": "code",
   "execution_count": null,
   "metadata": {},
   "outputs": [],
   "source": [
    "#Tf-idf Bigrams\n",
    "#Initialize the `tfidf_vectorizer` \n",
    "tfidf_vectorizer = TfidfVectorizer(stop_words='english', ngram_range = (2,2), max_features = 20000) \n",
    "\n",
    "# Fit and transform the training data \n",
    "tfidf1_train = tfidf_vectorizer.fit_transform(x_train_text.astype('str')) \n",
    "\n",
    "# Transform the test set \n",
    "tfidf1_test = tfidf_vectorizer.transform([x_test])\n"
   ]
  },
  {
   "cell_type": "code",
   "execution_count": null,
   "metadata": {},
   "outputs": [],
   "source": [
    "nlp = spacy.load('en_core_web_sm')\n",
    "x = []\n",
    "text_new = []\n",
    "doc = nlp(x_test)\n",
    "for token in doc:\n",
    "    text_new.append(token.pos_)\n",
    "txt = ' '.join(text_new)\n",
    "txt"
   ]
  },
  {
   "cell_type": "code",
   "execution_count": null,
   "metadata": {},
   "outputs": [],
   "source": [
    "#Tf-idf Bigrams\n",
    "#Initialize the `tfidf_vectorizer` \n",
    "tfidf_vectorizer = TfidfVectorizer(stop_words='english', ngram_range = (2,2)) \n",
    "\n",
    "# Fit and transform the training data \n",
    "tfidf_train = tfidf_vectorizer.fit_transform(x_train_text_pos.astype('str')) \n",
    "\n",
    "# Transform the test set \n",
    "tfidf_test = tfidf_vectorizer.transform([x_test])"
   ]
  },
  {
   "cell_type": "code",
   "execution_count": null,
   "metadata": {},
   "outputs": [],
   "source": [
    "categories = []\n",
    "a = lexicon.analyze(\"\")\n",
    "for key, value in a.items():\n",
    "    categories.append(key)\n",
    "categories\n",
    "lexicon = Empath()\n",
    "semantic = []\n",
    "cnt = 0\n",
    "d = lexicon.analyze(x_test)\n",
    "d\n",
    "sem = []\n",
    "for key,value in d.items() :\n",
    "    sem.append(value)\n",
    "a = []\n",
    "for j in range(len(sem)):\n",
    "    for k in range(int(sem[j])):\n",
    "        a.append(categories[j])\n",
    "    b = \" \".join(a)\n",
    "b"
   ]
  },
  {
   "cell_type": "code",
   "execution_count": null,
   "metadata": {},
   "outputs": [],
   "source": [
    "#Initialize the `tfidf_vectorizer` \n",
    "tfidf_vectorizer = TfidfVectorizer(stop_words='english', ngram_range = (1,1)) \n",
    "\n",
    "# Fit and transform the training data \n",
    "tfidf2_train = tfidf_vectorizer.fit_transform(x_train_semantics.astype('str')) \n",
    "\n",
    "# Transform the test set \n",
    "tfidf2_test = tfidf_vectorizer.transform([b])"
   ]
  },
  {
   "cell_type": "code",
   "execution_count": null,
   "metadata": {},
   "outputs": [],
   "source": [
    "import scipy.sparse as sp\n",
    "# ui = sp.vstack(tfidf_train, tfidf1_train)\n",
    "# yu = tfidf_train.data.tolist()\n",
    "# yu.append(tfidf1_train.tolist())\n",
    "# test = tfidf_test.data.tolist() + x_test.tolist()\n",
    "#print(type(tfidf_train), tfidf_train.shape)\n",
    "#print(type(tfidf1_train), tfidf1_train.shape)\n",
    "# print(type(x_train), x_train.shape)\n",
    "diff_n_rows = tfidf_train.shape[0] - tfidf1_train.shape[0]\n",
    "\n",
    "Xb_new = sp.vstack((tfidf1_train, sp.csr_matrix((diff_n_rows, tfidf1_train.shape[1])))) \n",
    "#where diff_n_rows is the difference of the number of rows between Xa and Xb\n",
    "\n",
    "c = sp.hstack((tfidf_train, Xb_new))\n",
    "\n",
    "diff_n_rows = c.shape[0] - tfidf2_train.shape[0]\n",
    "\n",
    "Xb_new = sp.vstack((tfidf2_train, sp.csr_matrix((diff_n_rows, tfidf2_train.shape[1])))) \n",
    "#where diff_n_rows is the difference of the number of rows between Xa and Xb\n",
    "\n",
    "X = sp.hstack((c, Xb_new))\n",
    "X\n",
    "\n",
    "dif_n_rows = tfidf_test.shape[0] - tfidf1_test.shape[0]\n",
    "\n",
    "Xb_ne = sp.vstack((tfidf1_test, sp.csr_matrix((dif_n_rows, tfidf1_test.shape[1])))) \n",
    "#where diff_n_rows is the difference of the number of rows between Xa and Xb\n",
    "\n",
    "d = sp.hstack((tfidf_test, Xb_ne))\n",
    "\n",
    "dif_n_rows = d.shape[0] - tfidf2_test.shape[0]\n",
    "\n",
    "Xb_ne = sp.vstack((tfidf2_test, sp.csr_matrix((dif_n_rows, tfidf2_test.shape[1])))) \n",
    "#where diff_n_rows is the difference of the number of rows between Xa and Xb\n",
    "\n",
    "Y = sp.hstack((d, Xb_ne))\n"
   ]
  },
  {
   "cell_type": "code",
   "execution_count": null,
   "metadata": {},
   "outputs": [],
   "source": [
    "clf = MultinomialNB()\n",
    "#type(x_train.tolist())\n",
    "clf.fit(X, y_train)\n",
    "clf.predict(Y)"
   ]
  },
  {
   "cell_type": "code",
   "execution_count": null,
   "metadata": {},
   "outputs": [],
   "source": []
  },
  {
   "cell_type": "code",
   "execution_count": null,
   "metadata": {},
   "outputs": [],
   "source": []
  },
  {
   "cell_type": "code",
   "execution_count": null,
   "metadata": {},
   "outputs": [],
   "source": []
  },
  {
   "cell_type": "code",
   "execution_count": null,
   "metadata": {},
   "outputs": [],
   "source": []
  }
 ],
 "metadata": {
  "kernelspec": {
   "display_name": "Python 3",
   "language": "python",
   "name": "python3"
  },
  "language_info": {
   "codemirror_mode": {
    "name": "ipython",
    "version": 3
   },
   "file_extension": ".py",
   "mimetype": "text/x-python",
   "name": "python",
   "nbconvert_exporter": "python",
   "pygments_lexer": "ipython3",
   "version": "3.7.1"
  }
 },
 "nbformat": 4,
 "nbformat_minor": 2
}
